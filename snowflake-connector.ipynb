{
 "cells": [
  {
   "cell_type": "code",
   "execution_count": 1,
   "id": "f3246061-7f96-4ba7-8732-1a170d1e0a1e",
   "metadata": {},
   "outputs": [
    {
     "name": "stdout",
     "output_type": "stream",
     "text": [
      "Python 3.7.13\n"
     ]
    }
   ],
   "source": [
    "!python --version"
   ]
  },
  {
   "cell_type": "code",
   "execution_count": 2,
   "id": "047bc75b-9ef7-473c-b931-0128b9f7df44",
   "metadata": {},
   "outputs": [
    {
     "name": "stdout",
     "output_type": "stream",
     "text": [
      "Collecting snowflake-connector-python\n",
      "  Downloading snowflake_connector_python-3.0.4-cp37-cp37m-manylinux_2_17_x86_64.manylinux2014_x86_64.whl (24.5 MB)\n",
      "\u001b[K     |████████████████████████████████| 24.5 MB 20.5 MB/s eta 0:00:01\n",
      "\u001b[?25hCollecting filelock<4,>=3.5\n",
      "  Downloading filelock-3.12.2-py3-none-any.whl (10 kB)\n",
      "Requirement already satisfied: cffi<2.0.0,>=1.9 in ./.local/lib/python3.7/site-packages (from snowflake-connector-python) (1.15.1)\n",
      "Collecting asn1crypto<2.0.0,>0.24.0\n",
      "  Downloading asn1crypto-1.5.1-py2.py3-none-any.whl (105 kB)\n",
      "\u001b[K     |████████████████████████████████| 105 kB 109.4 MB/s eta 0:00:01\n",
      "\u001b[?25hRequirement already satisfied: cryptography<41.0.0,>=3.1.0 in ./.local/lib/python3.7/site-packages (from snowflake-connector-python) (39.0.1)\n",
      "Collecting oscrypto<2.0.0\n",
      "  Downloading oscrypto-1.3.0-py2.py3-none-any.whl (194 kB)\n",
      "\u001b[K     |████████████████████████████████| 194 kB 105.0 MB/s eta 0:00:01\n",
      "\u001b[?25hRequirement already satisfied: pytz in /usr/local/lib/python3.7/site-packages (from snowflake-connector-python) (2021.1)\n",
      "Requirement already satisfied: charset-normalizer<4,>=2 in /usr/local/lib/python3.7/site-packages (from snowflake-connector-python) (2.0.6)\n",
      "Requirement already satisfied: urllib3<1.27,>=1.21.1 in /usr/local/lib/python3.7/site-packages (from snowflake-connector-python) (1.26.6)\n",
      "Collecting pyOpenSSL<24.0.0,>=16.2.0\n",
      "  Downloading pyOpenSSL-23.2.0-py3-none-any.whl (59 kB)\n",
      "\u001b[K     |████████████████████████████████| 59 kB 1.3 MB/s  eta 0:00:01\n",
      "\u001b[?25hRequirement already satisfied: pyjwt<3.0.0 in /runtime-addons/cmladdon-2.0.38-b125/opt/cmladdons/python/site-packages (from snowflake-connector-python) (2.6.0)\n",
      "Requirement already satisfied: requests<3.0.0 in /usr/local/lib/python3.7/site-packages (from snowflake-connector-python) (2.25.1)\n",
      "Requirement already satisfied: packaging in /usr/local/lib/python3.7/site-packages (from snowflake-connector-python) (20.9)\n",
      "Collecting pycryptodomex!=3.5.0,<4.0.0,>=3.2\n",
      "  Downloading pycryptodomex-3.18.0-cp35-abi3-manylinux_2_17_x86_64.manylinux2014_x86_64.whl (2.1 MB)\n",
      "\u001b[K     |████████████████████████████████| 2.1 MB 92.9 MB/s eta 0:00:01\n",
      "\u001b[?25hCollecting typing-extensions<5,>=4.3\n",
      "  Downloading typing_extensions-4.6.3-py3-none-any.whl (31 kB)\n",
      "Collecting sortedcontainers>=2.4.0\n",
      "  Downloading sortedcontainers-2.4.0-py2.py3-none-any.whl (29 kB)\n",
      "Requirement already satisfied: importlib-metadata in /usr/local/lib/python3.7/site-packages (from snowflake-connector-python) (4.11.3)\n",
      "Requirement already satisfied: idna<4,>=2.5 in /usr/local/lib/python3.7/site-packages (from snowflake-connector-python) (2.10)\n",
      "Requirement already satisfied: certifi>=2017.4.17 in /usr/local/lib/python3.7/site-packages (from snowflake-connector-python) (2020.11.8)\n",
      "Requirement already satisfied: pycparser in ./.local/lib/python3.7/site-packages (from cffi<2.0.0,>=1.9->snowflake-connector-python) (2.21)\n",
      "Requirement already satisfied: chardet<5,>=3.0.2 in /usr/local/lib/python3.7/site-packages (from requests<3.0.0->snowflake-connector-python) (4.0.0)\n",
      "Requirement already satisfied: zipp>=0.5 in /usr/local/lib/python3.7/site-packages (from importlib-metadata->snowflake-connector-python) (3.8.0)\n",
      "Requirement already satisfied: pyparsing>=2.0.2 in /usr/local/lib/python3.7/site-packages (from packaging->snowflake-connector-python) (2.4.7)\n",
      "Installing collected packages: typing-extensions, asn1crypto, sortedcontainers, pyOpenSSL, pycryptodomex, oscrypto, filelock, snowflake-connector-python\n",
      "\u001b[31mERROR: pip's dependency resolver does not currently take into account all the packages that are installed. This behaviour is the source of the following dependency conflicts.\n",
      "mlflow-cml-plugin 0.0.1 requires typing-extensions==4.1.1, but you have typing-extensions 4.6.3 which is incompatible.\u001b[0m\n",
      "Successfully installed asn1crypto-1.5.1 filelock-3.12.2 oscrypto-1.3.0 pyOpenSSL-23.2.0 pycryptodomex-3.18.0 snowflake-connector-python-3.0.4 sortedcontainers-2.4.0 typing-extensions-4.6.3\n"
     ]
    }
   ],
   "source": [
    "!pip install --upgrade snowflake-connector-python"
   ]
  },
  {
   "cell_type": "code",
   "execution_count": 4,
   "id": "73cc562b-2cbd-4aa5-824b-adda3abcddad",
   "metadata": {},
   "outputs": [
    {
     "name": "stdout",
     "output_type": "stream",
     "text": [
      "DISTRIB_ID=Ubuntu\n",
      "DISTRIB_RELEASE=20.04\n",
      "DISTRIB_CODENAME=focal\n",
      "DISTRIB_DESCRIPTION=\"Ubuntu 20.04.6 LTS\"\n",
      "NAME=\"Ubuntu\"\n",
      "VERSION=\"20.04.6 LTS (Focal Fossa)\"\n",
      "ID=ubuntu\n",
      "ID_LIKE=debian\n",
      "PRETTY_NAME=\"Ubuntu 20.04.6 LTS\"\n",
      "VERSION_ID=\"20.04\"\n",
      "HOME_URL=\"https://www.ubuntu.com/\"\n",
      "SUPPORT_URL=\"https://help.ubuntu.com/\"\n",
      "BUG_REPORT_URL=\"https://bugs.launchpad.net/ubuntu/\"\n",
      "PRIVACY_POLICY_URL=\"https://www.ubuntu.com/legal/terms-and-policies/privacy-policy\"\n",
      "VERSION_CODENAME=focal\n",
      "UBUNTU_CODENAME=focal\n"
     ]
    }
   ],
   "source": [
    "#checking version of Linux Distribution and version\n",
    "!cat /etc/*-release"
   ]
  },
  {
   "cell_type": "code",
   "execution_count": 1,
   "id": "ec0930e3-f876-4ab6-8edf-6e29159eb1d5",
   "metadata": {
    "tags": []
   },
   "outputs": [
    {
     "name": "stdout",
     "output_type": "stream",
     "text": [
      "OpenSSL 1.1.1f  31 Mar 2020\n"
     ]
    }
   ],
   "source": [
    "#check if OPEN SSL already exists or we do pip install. \n",
    "import ssl\n",
    "print(ssl.OPENSSL_VERSION)"
   ]
  },
  {
   "cell_type": "code",
   "execution_count": 12,
   "id": "07183f29-ac39-49c2-92a1-9d624d3ca798",
   "metadata": {
    "tags": []
   },
   "outputs": [
    {
     "name": "stdout",
     "output_type": "stream",
     "text": [
      "7.21.1\n"
     ]
    }
   ],
   "source": [
    "#!/usr/bin/env python\n",
    "import snowflake.connector\n",
    "import os\n",
    "\n",
    "##format\n",
    "# conn = snowflake.connector.connect(\n",
    "#     user='XXXX',\n",
    "#     password='XXXX',\n",
    "#     account='XXXX',\n",
    "#     session_parameters={\n",
    "#         'QUERY_TAG': 'SnowflakeConnectorDemo',\n",
    "#     }\n",
    "# )\n",
    "# Gets the version\n",
    "ctx = snowflake.connector.connect(\n",
    "    user=os.getenv(\"SNOWFLAKE_USERNAME\"),\n",
    "    password=os.getenv(\"SNOWFLAKE_PWD\"),\n",
    "    account=os.getenv(\"SNOWFLAKE_ACCOUNT\")\n",
    "    )\n",
    "cs = ctx.cursor()\n",
    "try:\n",
    "    cs.execute(\"SELECT current_version()\")\n",
    "    one_row = cs.fetchone()\n",
    "    print(one_row[0])\n",
    "finally:\n",
    "    cs.close()\n",
    "ctx.close()"
   ]
  },
  {
   "cell_type": "code",
   "execution_count": 13,
   "id": "ac1d358a-b643-45f0-bcc0-648fc1ec5329",
   "metadata": {
    "tags": []
   },
   "outputs": [],
   "source": [
    "\n",
    "#set Query Parameters. \n",
    "conn = snowflake.connector.connect(\n",
    "    user=os.getenv(\"SNOWFLAKE_USERNAME\"),\n",
    "    password=os.getenv(\"SNOWFLAKE_PWD\"),\n",
    "    account=os.getenv(\"SNOWFLAKE_ACCOUNT\"),\n",
    "    session_parameters={\n",
    "        'QUERY_TAG': 'SnowflakeConnectorDemo',\n",
    "    } \n",
    "    )"
   ]
  },
  {
   "cell_type": "code",
   "execution_count": 14,
   "id": "62be573d-4af9-4b9d-8abc-6c5b1fcd6a60",
   "metadata": {
    "tags": []
   },
   "outputs": [],
   "source": [
    "cursor_list = conn.cursor().execute(\"SHOW WAREHOUSES\")"
   ]
  },
  {
   "cell_type": "code",
   "execution_count": 15,
   "id": "a9070c06-63ca-4deb-8bfa-cf8044483c9c",
   "metadata": {
    "tags": []
   },
   "outputs": [
    {
     "data": {
      "text/plain": [
       "<snowflake.connector.cursor.SnowflakeCursor at 0x7f26811e9a90>"
      ]
     },
     "execution_count": 15,
     "metadata": {},
     "output_type": "execute_result"
    }
   ],
   "source": [
    "conn.cursor().execute(\"CREATE WAREHOUSE IF NOT EXISTS tiny_warehouse_mg\")"
   ]
  },
  {
   "cell_type": "code",
   "execution_count": 16,
   "id": "2f84966f-6185-465c-b641-743bf514455f",
   "metadata": {
    "tags": []
   },
   "outputs": [
    {
     "name": "stdout",
     "output_type": "stream",
     "text": [
      "COMPUTE_WH\n",
      "TINY_WAREHOUSE_MG\n"
     ]
    }
   ],
   "source": [
    "#use Cursors to iterate through warehouses\n",
    "for cursor in cursor_list:\n",
    "      print(cursor[0])"
   ]
  },
  {
   "cell_type": "code",
   "execution_count": 17,
   "id": "076e0636-5a71-41c9-a9d6-81f5376c6d9e",
   "metadata": {
    "tags": []
   },
   "outputs": [
    {
     "data": {
      "text/plain": [
       "<snowflake.connector.cursor.SnowflakeCursor at 0x7f268123cf90>"
      ]
     },
     "execution_count": 17,
     "metadata": {},
     "output_type": "execute_result"
    }
   ],
   "source": [
    " conn.cursor().execute(\"USE WAREHOUSE COMPUTE_WH\")"
   ]
  },
  {
   "cell_type": "code",
   "execution_count": 18,
   "id": "4fb62cbf-e194-453d-866f-18d224dea160",
   "metadata": {
    "tags": []
   },
   "outputs": [
    {
     "data": {
      "text/plain": [
       "<snowflake.connector.cursor.SnowflakeCursor at 0x7f26811efad0>"
      ]
     },
     "execution_count": 18,
     "metadata": {},
     "output_type": "execute_result"
    }
   ],
   "source": [
    "conn.cursor().execute(\"USE DATABASE SNOWFLAKE_SAMPLE_DATA\")"
   ]
  },
  {
   "cell_type": "code",
   "execution_count": 19,
   "id": "5edb1da8-78b8-4735-98ab-08910b4fdd77",
   "metadata": {
    "tags": []
   },
   "outputs": [
    {
     "data": {
      "text/plain": [
       "<snowflake.connector.cursor.SnowflakeCursor at 0x7f26812561d0>"
      ]
     },
     "execution_count": 19,
     "metadata": {},
     "output_type": "execute_result"
    }
   ],
   "source": [
    "#use the schema\n",
    "conn.cursor().execute(\"USE SCHEMA TPCH_SF1\")"
   ]
  },
  {
   "cell_type": "code",
   "execution_count": 20,
   "id": "b7d9b6a2-6f42-4dd5-84b5-b3be23f9df3b",
   "metadata": {
    "tags": []
   },
   "outputs": [
    {
     "name": "stdout",
     "output_type": "stream",
     "text": [
      "30001, Customer#000030001\n"
     ]
    }
   ],
   "source": [
    "#single row info\n",
    "#col1, col2 = conn.cursor().execute(\"SELECT C_CUSTKEY, C_NAME, C_NATIONKEY, C_PHONE, C_ACCTBAL, C_ADDRESS FROM CUSTOMER\").fetchone()\n",
    "col1, col2 = conn.cursor().execute(\"SELECT C_CUSTKEY, C_NAME FROM CUSTOMER\").fetchone()\n",
    "\n",
    "print('{0}, {1}'.format(col1, col2))"
   ]
  },
  {
   "cell_type": "code",
   "execution_count": 13,
   "id": "04d3438b-ae9a-4a1f-8de5-8afdfb7408be",
   "metadata": {},
   "outputs": [
    {
     "name": "stdout",
     "output_type": "stream",
     "text": [
      "Requirement already satisfied: snowflake-connector-python[pandas] in ./.local/lib/python3.7/site-packages (3.0.4)\n",
      "Requirement already satisfied: oscrypto<2.0.0 in ./.local/lib/python3.7/site-packages (from snowflake-connector-python[pandas]) (1.3.0)\n",
      "Requirement already satisfied: asn1crypto<2.0.0,>0.24.0 in ./.local/lib/python3.7/site-packages (from snowflake-connector-python[pandas]) (1.5.1)\n",
      "Requirement already satisfied: idna<4,>=2.5 in /usr/local/lib/python3.7/site-packages (from snowflake-connector-python[pandas]) (2.10)\n",
      "Requirement already satisfied: pycryptodomex!=3.5.0,<4.0.0,>=3.2 in ./.local/lib/python3.7/site-packages (from snowflake-connector-python[pandas]) (3.18.0)\n",
      "Requirement already satisfied: pytz in /usr/local/lib/python3.7/site-packages (from snowflake-connector-python[pandas]) (2021.1)\n",
      "Requirement already satisfied: cryptography<41.0.0,>=3.1.0 in ./.local/lib/python3.7/site-packages (from snowflake-connector-python[pandas]) (39.0.1)\n",
      "Requirement already satisfied: requests<3.0.0 in /usr/local/lib/python3.7/site-packages (from snowflake-connector-python[pandas]) (2.25.1)\n",
      "Requirement already satisfied: filelock<4,>=3.5 in ./.local/lib/python3.7/site-packages (from snowflake-connector-python[pandas]) (3.12.2)\n",
      "Requirement already satisfied: sortedcontainers>=2.4.0 in ./.local/lib/python3.7/site-packages (from snowflake-connector-python[pandas]) (2.4.0)\n",
      "Requirement already satisfied: importlib-metadata in /usr/local/lib/python3.7/site-packages (from snowflake-connector-python[pandas]) (4.11.3)\n",
      "Requirement already satisfied: urllib3<1.27,>=1.21.1 in /usr/local/lib/python3.7/site-packages (from snowflake-connector-python[pandas]) (1.26.6)\n",
      "Requirement already satisfied: packaging in /usr/local/lib/python3.7/site-packages (from snowflake-connector-python[pandas]) (20.9)\n",
      "Requirement already satisfied: certifi>=2017.4.17 in /usr/local/lib/python3.7/site-packages (from snowflake-connector-python[pandas]) (2020.11.8)\n",
      "Requirement already satisfied: charset-normalizer<4,>=2 in /usr/local/lib/python3.7/site-packages (from snowflake-connector-python[pandas]) (2.0.6)\n",
      "Requirement already satisfied: pyOpenSSL<24.0.0,>=16.2.0 in ./.local/lib/python3.7/site-packages (from snowflake-connector-python[pandas]) (23.2.0)\n",
      "Requirement already satisfied: cffi<2.0.0,>=1.9 in ./.local/lib/python3.7/site-packages (from snowflake-connector-python[pandas]) (1.15.1)\n",
      "Requirement already satisfied: pyjwt<3.0.0 in /runtime-addons/cmladdon-2.0.38-b125/opt/cmladdons/python/site-packages (from snowflake-connector-python[pandas]) (2.6.0)\n",
      "Requirement already satisfied: typing-extensions<5,>=4.3 in ./.local/lib/python3.7/site-packages (from snowflake-connector-python[pandas]) (4.6.3)\n",
      "Collecting pyarrow<10.1.0,>=10.0.1\n",
      "  Downloading pyarrow-10.0.1-cp37-cp37m-manylinux_2_17_x86_64.manylinux2014_x86_64.whl (36.0 MB)\n",
      "\u001b[K     |████████████████████████████████| 36.0 MB 22.2 MB/s eta 0:00:01\n",
      "\u001b[?25hRequirement already satisfied: pandas<2.1.0,>=1.0.0 in ./.local/lib/python3.7/site-packages (from snowflake-connector-python[pandas]) (1.1.5)\n",
      "Requirement already satisfied: pycparser in ./.local/lib/python3.7/site-packages (from cffi<2.0.0,>=1.9->snowflake-connector-python[pandas]) (2.21)\n",
      "Requirement already satisfied: python-dateutil>=2.7.3 in /usr/local/lib/python3.7/site-packages (from pandas<2.1.0,>=1.0.0->snowflake-connector-python[pandas]) (2.8.2)\n",
      "Requirement already satisfied: numpy>=1.15.4 in ./.local/lib/python3.7/site-packages (from pandas<2.1.0,>=1.0.0->snowflake-connector-python[pandas]) (1.19.5)\n",
      "Requirement already satisfied: six>=1.5 in /usr/local/lib/python3.7/site-packages (from python-dateutil>=2.7.3->pandas<2.1.0,>=1.0.0->snowflake-connector-python[pandas]) (1.15.0)\n",
      "Requirement already satisfied: chardet<5,>=3.0.2 in /usr/local/lib/python3.7/site-packages (from requests<3.0.0->snowflake-connector-python[pandas]) (4.0.0)\n",
      "Requirement already satisfied: zipp>=0.5 in /usr/local/lib/python3.7/site-packages (from importlib-metadata->snowflake-connector-python[pandas]) (3.8.0)\n",
      "Requirement already satisfied: pyparsing>=2.0.2 in /usr/local/lib/python3.7/site-packages (from packaging->snowflake-connector-python[pandas]) (2.4.7)\n",
      "Installing collected packages: pyarrow\n",
      "Successfully installed pyarrow-10.0.1\n"
     ]
    }
   ],
   "source": [
    "#import Snowflake Pandas interface\n",
    "!pip install \"snowflake-connector-python[pandas]\""
   ]
  },
  {
   "cell_type": "code",
   "execution_count": 21,
   "id": "1a8d1f7a-8769-461d-a3ba-1e31fcaa39ae",
   "metadata": {
    "tags": []
   },
   "outputs": [],
   "source": [
    "#fetch into a Pandas DF\n",
    "import pandas as pd\n",
    "cur = conn.cursor().execute(\"SELECT C_CUSTKEY, C_NAME, C_NATIONKEY, C_PHONE, C_ACCTBAL, C_ADDRESS FROM CUSTOMER LIMIT 10\")\n",
    "#pd = cur.fetch_pandas_all()\n",
    "try: \n",
    "    all_rows = cur.fetchall()\n",
    "    num_fields = len(cur.description)\n",
    "    field_names = [i[0] for i in cur.description]\n",
    "finally:\n",
    "    cur.close()\n",
    "\n",
    "conn.close()\n",
    "\n",
    "df = pd.DataFrame(all_rows)\n",
    "df.columns = field_names"
   ]
  },
  {
   "cell_type": "code",
   "execution_count": 22,
   "id": "2f8cad6d-e467-4550-9a5d-494d6021061b",
   "metadata": {
    "tags": []
   },
   "outputs": [
    {
     "data": {
      "text/html": [
       "<div>\n",
       "<style scoped>\n",
       "    .dataframe tbody tr th:only-of-type {\n",
       "        vertical-align: middle;\n",
       "    }\n",
       "\n",
       "    .dataframe tbody tr th {\n",
       "        vertical-align: top;\n",
       "    }\n",
       "\n",
       "    .dataframe thead th {\n",
       "        text-align: right;\n",
       "    }\n",
       "</style>\n",
       "<table border=\"1\" class=\"dataframe\">\n",
       "  <thead>\n",
       "    <tr style=\"text-align: right;\">\n",
       "      <th></th>\n",
       "      <th>C_CUSTKEY</th>\n",
       "      <th>C_NAME</th>\n",
       "      <th>C_NATIONKEY</th>\n",
       "      <th>C_PHONE</th>\n",
       "      <th>C_ACCTBAL</th>\n",
       "      <th>C_ADDRESS</th>\n",
       "    </tr>\n",
       "  </thead>\n",
       "  <tbody>\n",
       "    <tr>\n",
       "      <th>0</th>\n",
       "      <td>60001</td>\n",
       "      <td>Customer#000060001</td>\n",
       "      <td>14</td>\n",
       "      <td>24-678-784-9652</td>\n",
       "      <td>9957.56</td>\n",
       "      <td>9Ii4zQn9cX</td>\n",
       "    </tr>\n",
       "    <tr>\n",
       "      <th>1</th>\n",
       "      <td>60002</td>\n",
       "      <td>Customer#000060002</td>\n",
       "      <td>15</td>\n",
       "      <td>25-782-500-8435</td>\n",
       "      <td>742.46</td>\n",
       "      <td>ThGBMjDwKzkoOxhz</td>\n",
       "    </tr>\n",
       "    <tr>\n",
       "      <th>2</th>\n",
       "      <td>60003</td>\n",
       "      <td>Customer#000060003</td>\n",
       "      <td>16</td>\n",
       "      <td>26-859-847-7640</td>\n",
       "      <td>2526.92</td>\n",
       "      <td>Ed hbPtTXMTAsgGhCr4HuTzK,Md2</td>\n",
       "    </tr>\n",
       "    <tr>\n",
       "      <th>3</th>\n",
       "      <td>60004</td>\n",
       "      <td>Customer#000060004</td>\n",
       "      <td>10</td>\n",
       "      <td>20-573-674-7999</td>\n",
       "      <td>7975.22</td>\n",
       "      <td>NivCT2RVaavl,yUnKwBjDyMvB42WayXCnky</td>\n",
       "    </tr>\n",
       "    <tr>\n",
       "      <th>4</th>\n",
       "      <td>60005</td>\n",
       "      <td>Customer#000060005</td>\n",
       "      <td>12</td>\n",
       "      <td>22-741-208-1316</td>\n",
       "      <td>2504.74</td>\n",
       "      <td>1F3KM3ccEXEtI, B22XmCMOWJMl</td>\n",
       "    </tr>\n",
       "  </tbody>\n",
       "</table>\n",
       "</div>"
      ],
      "text/plain": [
       "   C_CUSTKEY              C_NAME  C_NATIONKEY          C_PHONE C_ACCTBAL  \\\n",
       "0      60001  Customer#000060001           14  24-678-784-9652   9957.56   \n",
       "1      60002  Customer#000060002           15  25-782-500-8435    742.46   \n",
       "2      60003  Customer#000060003           16  26-859-847-7640   2526.92   \n",
       "3      60004  Customer#000060004           10  20-573-674-7999   7975.22   \n",
       "4      60005  Customer#000060005           12  22-741-208-1316   2504.74   \n",
       "\n",
       "                             C_ADDRESS  \n",
       "0                           9Ii4zQn9cX  \n",
       "1                     ThGBMjDwKzkoOxhz  \n",
       "2         Ed hbPtTXMTAsgGhCr4HuTzK,Md2  \n",
       "3  NivCT2RVaavl,yUnKwBjDyMvB42WayXCnky  \n",
       "4          1F3KM3ccEXEtI, B22XmCMOWJMl  "
      ]
     },
     "execution_count": 22,
     "metadata": {},
     "output_type": "execute_result"
    }
   ],
   "source": [
    "df.head()"
   ]
  },
  {
   "cell_type": "code",
   "execution_count": null,
   "id": "3b1978fd-30d7-4d42-97da-786e08f383db",
   "metadata": {},
   "outputs": [],
   "source": []
  }
 ],
 "metadata": {
  "kernelspec": {
   "display_name": "Python 3 (ipykernel)",
   "language": "python",
   "name": "python3"
  },
  "language_info": {
   "codemirror_mode": {
    "name": "ipython",
    "version": 3
   },
   "file_extension": ".py",
   "mimetype": "text/x-python",
   "name": "python",
   "nbconvert_exporter": "python",
   "pygments_lexer": "ipython3",
   "version": "3.7.16"
  }
 },
 "nbformat": 4,
 "nbformat_minor": 5
}
