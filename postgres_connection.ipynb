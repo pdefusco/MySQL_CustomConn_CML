{
 "cells": [
  {
   "cell_type": "code",
   "execution_count": 6,
   "id": "42736f4f-2052-417c-b03b-f1e756c2818f",
   "metadata": {},
   "outputs": [
    {
     "name": "stdout",
     "output_type": "stream",
     "text": [
      "Requirement already satisfied: pandas in ./.local/lib/python3.7/site-packages (from -r requirements.txt (line 1)) (1.3.5)\n",
      "Collecting psycopg2\n",
      "  Downloading psycopg2-2.9.6.tar.gz (383 kB)\n",
      "\u001b[K     |████████████████████████████████| 383 kB 24.3 MB/s eta 0:00:01\n",
      "\u001b[?25hCollecting mysql-connector-python\n",
      "  Downloading mysql_connector_python-8.0.33-cp37-cp37m-manylinux1_x86_64.whl (27.4 MB)\n",
      "\u001b[K     |████████████████████████████████| 27.4 MB 98.2 MB/s eta 0:00:01\n",
      "\u001b[?25hRequirement already satisfied: numpy>=1.17.3 in /usr/local/lib/python3.7/site-packages (from pandas->-r requirements.txt (line 1)) (1.21.6)\n",
      "Requirement already satisfied: python-dateutil>=2.7.3 in /usr/local/lib/python3.7/site-packages (from pandas->-r requirements.txt (line 1)) (2.8.2)\n",
      "Requirement already satisfied: pytz>=2017.3 in /usr/local/lib/python3.7/site-packages (from pandas->-r requirements.txt (line 1)) (2021.1)\n",
      "Requirement already satisfied: six>=1.5 in /usr/local/lib/python3.7/site-packages (from python-dateutil>=2.7.3->pandas->-r requirements.txt (line 1)) (1.15.0)\n",
      "Collecting protobuf<=3.20.3,>=3.11.0\n",
      "  Downloading protobuf-3.20.3-cp37-cp37m-manylinux_2_5_x86_64.manylinux1_x86_64.whl (1.0 MB)\n",
      "\u001b[K     |████████████████████████████████| 1.0 MB 43.4 MB/s eta 0:00:01\n",
      "\u001b[?25hBuilding wheels for collected packages: psycopg2\n",
      "  Building wheel for psycopg2 (setup.py) ... \u001b[?25ldone\n",
      "\u001b[?25h  Created wheel for psycopg2: filename=psycopg2-2.9.6-cp37-cp37m-linux_x86_64.whl size=552181 sha256=04393617d7f7a03131c35ecde6e2fe3ebe45af84d71ec349d0a4ab0f72fc1e60\n",
      "  Stored in directory: /home/cdsw/.cache/pip/wheels/9d/f3/21/cbf320fe8a9661246db7b8e5bacc0362ec111674c8698d03ec\n",
      "Successfully built psycopg2\n",
      "Installing collected packages: protobuf, psycopg2, mysql-connector-python\n",
      "\u001b[31mERROR: pip's dependency resolver does not currently take into account all the packages that are installed. This behaviour is the source of the following dependency conflicts.\n",
      "mlflow-cml-plugin 0.0.1 requires protobuf==4.21.0, but you have protobuf 3.20.3 which is incompatible.\u001b[0m\n",
      "Successfully installed mysql-connector-python-8.0.33 protobuf-3.20.3 psycopg2-2.9.6\n"
     ]
    }
   ],
   "source": [
    "!pip3 install -r requirements.txt"
   ]
  },
  {
   "cell_type": "code",
   "execution_count": 7,
   "id": "bf23c833-3124-4329-b118-cafddbd46b84",
   "metadata": {},
   "outputs": [
    {
     "name": "stdout",
     "output_type": "stream",
     "text": [
      "Checking Connection parameters from CML DataConnections service, fall back to ENV vars if needed\n",
      "{'PG_HOST': 'hh-pgsql-public.ebi.ac.uk', 'PG_PORT': '5432', 'PG_USER': 'reader', 'PG_DB': 'pfmegrnargs'}\n",
      "Loaded custom connection CCPostgres\n",
      "\n",
      "Generic Postgres CML Python Dataconnection\n",
      "Prerequisite packages:\n",
      "pip install postgres\n",
      "pip install pandas\n",
      "Connection Parameters:\n",
      "(These can be set in the Dataconnection defintion created by Admins or set as User Envs for the CML Session as fallback)\n",
      "  PG_HOST\n",
      "  PG_PORT\n",
      "  PG_USER\n",
      "  PG_DB\n",
      "  \n",
      "(This should be set by the user in their session)\n",
      "  PG_PASS\n",
      "Functions:\n",
      "  get_cursor() -- Get a basic psycopg2 cursor\n",
      "  get_pandas_dataframe(query) -- Get a pandas dataframe for a specified sql query\n",
      "--Sample Usage--\n",
      "import cml.data_v1 as cmldata\n",
      "CONNECTION_NAME = \"CCPostgres\"\n",
      "conn = cmldata.get_connection(CONNECTION_NAME)\n",
      "cursor = conn.get_cursor()\n",
      "\n"
     ]
    }
   ],
   "source": [
    "import cml.data_v1 as cmldata\n",
    "\n",
    "CONNECTION_NAME = \"CCPostgres\"\n",
    "\n",
    "conn = cmldata.get_connection(CONNECTION_NAME)\n",
    "conn.print_usage()"
   ]
  },
  {
   "cell_type": "code",
   "execution_count": 8,
   "id": "cd721be3-92f5-4f07-80d3-436765570de2",
   "metadata": {},
   "outputs": [],
   "source": [
    "import os\n",
    "#This password is publicly available at:\n",
    "#https://rnacentral.org/help/public-database\n",
    "os.environ[\"PG_PASS\"] = \"NWDMCE5xdipIjRrp\" "
   ]
  },
  {
   "cell_type": "code",
   "execution_count": 9,
   "id": "0592f1cf-30fd-4dea-8ebd-1593413adb56",
   "metadata": {},
   "outputs": [
    {
     "name": "stdout",
     "output_type": "stream",
     "text": [
      "Checking Connection parameters from CML DataConnections service, fall back to ENV vars if needed\n",
      "{'PG_HOST': 'hh-pgsql-public.ebi.ac.uk', 'PG_PORT': '5432', 'PG_USER': 'reader', 'PG_DB': 'pfmegrnargs'}\n",
      "Loaded custom connection CCPostgres\n"
     ]
    }
   ],
   "source": [
    "import cml.data_v1 as cmldata\n",
    "CONNECTION_NAME = \"CCPostgres\"\n",
    "conn = cmldata.get_connection(CONNECTION_NAME)\n",
    "cursor = conn.get_cursor()"
   ]
  },
  {
   "cell_type": "code",
   "execution_count": 10,
   "id": "1d6b2ff7-d296-46af-8ffb-60a6566a1e6e",
   "metadata": {},
   "outputs": [
    {
     "data": {
      "text/html": [
       "<div>\n",
       "<style scoped>\n",
       "    .dataframe tbody tr th:only-of-type {\n",
       "        vertical-align: middle;\n",
       "    }\n",
       "\n",
       "    .dataframe tbody tr th {\n",
       "        vertical-align: top;\n",
       "    }\n",
       "\n",
       "    .dataframe thead th {\n",
       "        text-align: right;\n",
       "    }\n",
       "</style>\n",
       "<table border=\"1\" class=\"dataframe\">\n",
       "  <thead>\n",
       "    <tr style=\"text-align: right;\">\n",
       "      <th></th>\n",
       "      <th>id</th>\n",
       "      <th>timestamp</th>\n",
       "      <th>userstamp</th>\n",
       "      <th>descr</th>\n",
       "      <th>current_release</th>\n",
       "      <th>full_descr</th>\n",
       "      <th>alive</th>\n",
       "      <th>for_release</th>\n",
       "      <th>display_name</th>\n",
       "      <th>project_id</th>\n",
       "      <th>avg_length</th>\n",
       "      <th>min_length</th>\n",
       "      <th>max_length</th>\n",
       "      <th>num_sequences</th>\n",
       "      <th>num_organisms</th>\n",
       "    </tr>\n",
       "  </thead>\n",
       "  <tbody>\n",
       "    <tr>\n",
       "      <th>0</th>\n",
       "      <td>5</td>\n",
       "      <td>2017-05-17</td>\n",
       "      <td>RNACEN</td>\n",
       "      <td>VEGA</td>\n",
       "      <td>98</td>\n",
       "      <td>VEGA</td>\n",
       "      <td>N</td>\n",
       "      <td>None</td>\n",
       "      <td>VEGA</td>\n",
       "      <td>PRJEB4568</td>\n",
       "      <td>NaN</td>\n",
       "      <td>NaN</td>\n",
       "      <td>NaN</td>\n",
       "      <td>0</td>\n",
       "      <td>0</td>\n",
       "    </tr>\n",
       "    <tr>\n",
       "      <th>1</th>\n",
       "      <td>1</td>\n",
       "      <td>2017-05-01</td>\n",
       "      <td>RNACEN</td>\n",
       "      <td>ENA</td>\n",
       "      <td>731</td>\n",
       "      <td>ENA</td>\n",
       "      <td>Y</td>\n",
       "      <td>None</td>\n",
       "      <td>ENA</td>\n",
       "      <td>None</td>\n",
       "      <td>412.0</td>\n",
       "      <td>10.0</td>\n",
       "      <td>900074.0</td>\n",
       "      <td>12086180</td>\n",
       "      <td>814855</td>\n",
       "    </tr>\n",
       "    <tr>\n",
       "      <th>2</th>\n",
       "      <td>26</td>\n",
       "      <td>2017-05-01</td>\n",
       "      <td>RNACEN</td>\n",
       "      <td>GENCODE</td>\n",
       "      <td>450</td>\n",
       "      <td>GENCODE</td>\n",
       "      <td>N</td>\n",
       "      <td>None</td>\n",
       "      <td>GENCODE</td>\n",
       "      <td>None</td>\n",
       "      <td>889.0</td>\n",
       "      <td>32.0</td>\n",
       "      <td>205012.0</td>\n",
       "      <td>47677</td>\n",
       "      <td>2</td>\n",
       "    </tr>\n",
       "    <tr>\n",
       "      <th>3</th>\n",
       "      <td>3</td>\n",
       "      <td>2017-05-01</td>\n",
       "      <td>RNACEN</td>\n",
       "      <td>SRPDB</td>\n",
       "      <td>732</td>\n",
       "      <td>SRPDB</td>\n",
       "      <td>Y</td>\n",
       "      <td>None</td>\n",
       "      <td>SRPDB</td>\n",
       "      <td>PRJEB4384</td>\n",
       "      <td>173.0</td>\n",
       "      <td>30.0</td>\n",
       "      <td>533.0</td>\n",
       "      <td>503</td>\n",
       "      <td>684</td>\n",
       "    </tr>\n",
       "    <tr>\n",
       "      <th>4</th>\n",
       "      <td>15</td>\n",
       "      <td>2017-05-02</td>\n",
       "      <td>RNACEN</td>\n",
       "      <td>WORMBASE</td>\n",
       "      <td>735</td>\n",
       "      <td>WormBase</td>\n",
       "      <td>Y</td>\n",
       "      <td>None</td>\n",
       "      <td>WormBase</td>\n",
       "      <td>PRJNA13758</td>\n",
       "      <td>174.0</td>\n",
       "      <td>17.0</td>\n",
       "      <td>84141.0</td>\n",
       "      <td>26116</td>\n",
       "      <td>1</td>\n",
       "    </tr>\n",
       "  </tbody>\n",
       "</table>\n",
       "</div>"
      ],
      "text/plain": [
       "   id  timestamp userstamp     descr  current_release full_descr alive for_release display_name  project_id  avg_length  min_length  max_length  num_sequences  num_organisms\n",
       "0   5 2017-05-17    RNACEN      VEGA               98       VEGA     N        None         VEGA   PRJEB4568         NaN         NaN         NaN              0              0\n",
       "1   1 2017-05-01    RNACEN       ENA              731        ENA     Y        None          ENA        None       412.0        10.0    900074.0       12086180         814855\n",
       "2  26 2017-05-01    RNACEN   GENCODE              450    GENCODE     N        None      GENCODE        None       889.0        32.0    205012.0          47677              2\n",
       "3   3 2017-05-01    RNACEN     SRPDB              732      SRPDB     Y        None        SRPDB   PRJEB4384       173.0        30.0       533.0            503            684\n",
       "4  15 2017-05-02    RNACEN  WORMBASE              735   WormBase     Y        None     WormBase  PRJNA13758       174.0        17.0     84141.0          26116              1"
      ]
     },
     "execution_count": 10,
     "metadata": {},
     "output_type": "execute_result"
    }
   ],
   "source": [
    "SQL = \"select * from rnc_database limit 5\"\n",
    "conn.get_pandas_dataframe(SQL)"
   ]
  },
  {
   "cell_type": "code",
   "execution_count": 11,
   "id": "667fc580-f4bd-44d0-ad1c-13f9c25b9d26",
   "metadata": {},
   "outputs": [
    {
     "name": "stdout",
     "output_type": "stream",
     "text": [
      "Checking Connection parameters from CML DataConnections service, fall back to ENV vars if needed\n",
      "{'MYSQL_HOST': 'mysql-rfam-public.ebi.ac.uk', 'MYSQL_DB': 'Rfam', 'MYSQL_USER': 'rfamro', 'MYSQL_PORT': '4497'}\n",
      "Loaded custom connection Custom Connection MySQL\n",
      "\n",
      "            Sample MYSQL CML Python Dataconnection\n",
      "            Prerequisite packages:\n",
      "            pip install mysql-connector-python\n",
      "            pip install pandas\n",
      "            Connection Parameters:\n",
      "            (These can be set in the Dataconnection defintion created by Admins or set as User Envs for the CML Session as fallback)\n",
      "              MYSQL_HOST\n",
      "              MYSQL_PORT\n",
      "              MYSQL_USER\n",
      "              MYSQL_DB\n",
      "              (A password is not required to connect to the example database)\n",
      "\n",
      "            Functions:\n",
      "              get_pandas_dataframe(query) -- Get a pandas dataframe for a specified sql query\n",
      "            --Sample Usage--\n",
      "            import cml.data_v1 as cmldata\n",
      "            CONNECTION_NAME = \"Custom Connection MySQL\"\n",
      "            conn = cmldata.get_connection(CONNECTION_NAME)\n",
      "            results = pd.get\n",
      "            \n"
     ]
    }
   ],
   "source": [
    "import cml.data_v1 as cmldata\n",
    "\n",
    "CONNECTION_NAME = \"Custom Connection MySQL\"\n",
    "\n",
    "conn = cmldata.get_connection(CONNECTION_NAME)\n",
    "conn.print_usage()"
   ]
  },
  {
   "cell_type": "code",
   "execution_count": 13,
   "id": "3fca11b9-1653-455b-866f-ac00ddddd796",
   "metadata": {},
   "outputs": [
    {
     "ename": "NameError",
     "evalue": "name 'mysql' is not defined",
     "output_type": "error",
     "traceback": [
      "\u001b[0;31m---------------------------------------------------------------------------\u001b[0m",
      "\u001b[0;31mNameError\u001b[0m                                 Traceback (most recent call last)",
      "\u001b[0;32m/tmp/ipykernel_227/2254689241.py\u001b[0m in \u001b[0;36m<module>\u001b[0;34m\u001b[0m\n\u001b[1;32m      6\u001b[0m                                 \u001b[0mAND\u001b[0m \u001b[0mis_significant\u001b[0m \u001b[0;34m=\u001b[0m \u001b[0;36m1\u001b[0m \u001b[0;34m-\u001b[0m\u001b[0;34m-\u001b[0m \u001b[0mexclude\u001b[0m \u001b[0mlow\u001b[0m\u001b[0;34m-\u001b[0m\u001b[0mscoring\u001b[0m \u001b[0mmatches\u001b[0m \u001b[0;32mfrom\u001b[0m \u001b[0mthe\u001b[0m \u001b[0msame\u001b[0m \u001b[0mclan\u001b[0m\u001b[0;34m\u001b[0m\u001b[0;34m\u001b[0m\u001b[0m\n\u001b[1;32m      7\u001b[0m                                 LIMIT 0,10\"\"\"\n\u001b[0;32m----> 8\u001b[0;31m \u001b[0mconn\u001b[0m\u001b[0;34m.\u001b[0m\u001b[0mget_pandas_dataframe\u001b[0m\u001b[0;34m(\u001b[0m\u001b[0mSQL\u001b[0m\u001b[0;34m)\u001b[0m\u001b[0;34m\u001b[0m\u001b[0;34m\u001b[0m\u001b[0m\n\u001b[0m",
      "\u001b[0;32m/dataconnections/38/670/mysql-conn.py\u001b[0m in \u001b[0;36mget_pandas_dataframe\u001b[0;34m(self, SQLQUERY)\u001b[0m\n\u001b[1;32m     55\u001b[0m                 \u001b[0;34m'pandas module not found, install it with \"pip install pandas\"'\u001b[0m\u001b[0;34m\u001b[0m\u001b[0;34m\u001b[0m\u001b[0m\n\u001b[1;32m     56\u001b[0m             )\n\u001b[0;32m---> 57\u001b[0;31m         \u001b[0mconnection\u001b[0m \u001b[0;34m=\u001b[0m \u001b[0mself\u001b[0m\u001b[0;34m.\u001b[0m\u001b[0mget_connection\u001b[0m\u001b[0;34m(\u001b[0m\u001b[0;34m)\u001b[0m\u001b[0;34m\u001b[0m\u001b[0;34m\u001b[0m\u001b[0m\n\u001b[0m\u001b[1;32m     58\u001b[0m         \u001b[0mdf\u001b[0m \u001b[0;34m=\u001b[0m \u001b[0mpd\u001b[0m\u001b[0;34m.\u001b[0m\u001b[0mread_sql\u001b[0m\u001b[0;34m(\u001b[0m\u001b[0mSQLQUERY\u001b[0m\u001b[0;34m,\u001b[0m \u001b[0mconnection\u001b[0m\u001b[0;34m)\u001b[0m\u001b[0;34m\u001b[0m\u001b[0;34m\u001b[0m\u001b[0m\n\u001b[1;32m     59\u001b[0m         \u001b[0mpd\u001b[0m\u001b[0;34m.\u001b[0m\u001b[0mset_option\u001b[0m\u001b[0;34m(\u001b[0m\u001b[0;34m\"display.expand_frame_repr\"\u001b[0m\u001b[0;34m,\u001b[0m \u001b[0;32mFalse\u001b[0m\u001b[0;34m)\u001b[0m\u001b[0;34m\u001b[0m\u001b[0;34m\u001b[0m\u001b[0m\n",
      "\u001b[0;32m/dataconnections/38/670/mysql-conn.py\u001b[0m in \u001b[0;36mget_connection\u001b[0;34m(self)\u001b[0m\n\u001b[1;32m     41\u001b[0m                 \u001b[0;34m'mysql.connector module not found, install it with \"pip install mysql-connector-python\"'\u001b[0m\u001b[0;34m\u001b[0m\u001b[0;34m\u001b[0m\u001b[0m\n\u001b[1;32m     42\u001b[0m             )\n\u001b[0;32m---> 43\u001b[0;31m         connection = mysql.connector.connect(host=self.mysqlhost,\n\u001b[0m\u001b[1;32m     44\u001b[0m                                          \u001b[0mdatabase\u001b[0m\u001b[0;34m=\u001b[0m\u001b[0mself\u001b[0m\u001b[0;34m.\u001b[0m\u001b[0mmysqldb\u001b[0m\u001b[0;34m,\u001b[0m\u001b[0;34m\u001b[0m\u001b[0;34m\u001b[0m\u001b[0m\n\u001b[1;32m     45\u001b[0m                                          \u001b[0muser\u001b[0m\u001b[0;34m=\u001b[0m\u001b[0mself\u001b[0m\u001b[0;34m.\u001b[0m\u001b[0mmysqluser\u001b[0m\u001b[0;34m,\u001b[0m\u001b[0;34m\u001b[0m\u001b[0;34m\u001b[0m\u001b[0m\n",
      "\u001b[0;31mNameError\u001b[0m: name 'mysql' is not defined"
     ]
    }
   ],
   "source": [
    "mySql_Query = \"\"\"SELECT fr.rfam_acc, fr.rfamseq_acc, fr.seq_start, fr.seq_end\n",
    "                                FROM full_region fr, rfamseq rf, taxonomy tx\n",
    "                                WHERE rf.ncbi_id = tx.ncbi_id\n",
    "                                AND fr.rfamseq_acc = rf.rfamseq_acc\n",
    "                                AND tx.ncbi_id = 10116 -- NCBI taxonomy id of Rattus norvegicus\n",
    "                                AND is_significant = 1 -- exclude low-scoring matches from the same clan\n",
    "                                LIMIT 0,10\"\"\"\n",
    "conn.get_pandas_dataframe(SQL)"
   ]
  },
  {
   "cell_type": "code",
   "execution_count": null,
   "id": "06f5a56f-f679-4ba6-a952-38171dc7c5b3",
   "metadata": {},
   "outputs": [],
   "source": []
  }
 ],
 "metadata": {
  "kernelspec": {
   "display_name": "Python 3 (ipykernel)",
   "language": "python",
   "name": "python3"
  },
  "language_info": {
   "codemirror_mode": {
    "name": "ipython",
    "version": 3
   },
   "file_extension": ".py",
   "mimetype": "text/x-python",
   "name": "python",
   "nbconvert_exporter": "python",
   "pygments_lexer": "ipython3",
   "version": "3.7.13"
  }
 },
 "nbformat": 4,
 "nbformat_minor": 5
}
