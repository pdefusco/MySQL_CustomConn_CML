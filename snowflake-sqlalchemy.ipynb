{
 "cells": [
  {
   "cell_type": "code",
   "execution_count": 1,
   "id": "45310d68-e3fa-4a83-b95f-e2fb8c612cf7",
   "metadata": {},
   "outputs": [
    {
     "name": "stdout",
     "output_type": "stream",
     "text": [
      "Collecting snowflake-sqlalchemy\n",
      "  Downloading snowflake_sqlalchemy-1.4.7-py2.py3-none-any.whl (33 kB)\n",
      "Collecting sqlalchemy<2.0.0,>=1.4.0\n",
      "  Downloading SQLAlchemy-1.4.48-cp37-cp37m-manylinux_2_5_x86_64.manylinux1_x86_64.manylinux_2_17_x86_64.manylinux2014_x86_64.whl (1.6 MB)\n",
      "\u001b[K     |████████████████████████████████| 1.6 MB 59.0 MB/s eta 0:00:01\n",
      "\u001b[?25hRequirement already satisfied: snowflake-connector-python<4.0.0 in ./.local/lib/python3.7/site-packages (from snowflake-sqlalchemy) (3.0.4)\n",
      "Requirement already satisfied: importlib-metadata in /usr/local/lib/python3.7/site-packages (from snowflake-sqlalchemy) (4.11.3)\n",
      "Requirement already satisfied: requests<3.0.0 in /usr/local/lib/python3.7/site-packages (from snowflake-connector-python<4.0.0->snowflake-sqlalchemy) (2.25.1)\n",
      "Requirement already satisfied: urllib3<1.27,>=1.21.1 in /usr/local/lib/python3.7/site-packages (from snowflake-connector-python<4.0.0->snowflake-sqlalchemy) (1.26.6)\n",
      "Requirement already satisfied: typing-extensions<5,>=4.3 in ./.local/lib/python3.7/site-packages (from snowflake-connector-python<4.0.0->snowflake-sqlalchemy) (4.6.3)\n",
      "Requirement already satisfied: packaging in /usr/local/lib/python3.7/site-packages (from snowflake-connector-python<4.0.0->snowflake-sqlalchemy) (20.9)\n",
      "Requirement already satisfied: filelock<4,>=3.5 in ./.local/lib/python3.7/site-packages (from snowflake-connector-python<4.0.0->snowflake-sqlalchemy) (3.12.2)\n",
      "Requirement already satisfied: sortedcontainers>=2.4.0 in ./.local/lib/python3.7/site-packages (from snowflake-connector-python<4.0.0->snowflake-sqlalchemy) (2.4.0)\n",
      "Requirement already satisfied: oscrypto<2.0.0 in ./.local/lib/python3.7/site-packages (from snowflake-connector-python<4.0.0->snowflake-sqlalchemy) (1.3.0)\n",
      "Requirement already satisfied: certifi>=2017.4.17 in /usr/local/lib/python3.7/site-packages (from snowflake-connector-python<4.0.0->snowflake-sqlalchemy) (2020.11.8)\n",
      "Requirement already satisfied: asn1crypto<2.0.0,>0.24.0 in ./.local/lib/python3.7/site-packages (from snowflake-connector-python<4.0.0->snowflake-sqlalchemy) (1.5.1)\n",
      "Requirement already satisfied: idna<4,>=2.5 in /usr/local/lib/python3.7/site-packages (from snowflake-connector-python<4.0.0->snowflake-sqlalchemy) (2.10)\n",
      "Requirement already satisfied: pyOpenSSL<24.0.0,>=16.2.0 in ./.local/lib/python3.7/site-packages (from snowflake-connector-python<4.0.0->snowflake-sqlalchemy) (23.2.0)\n",
      "Requirement already satisfied: cryptography<41.0.0,>=3.1.0 in ./.local/lib/python3.7/site-packages (from snowflake-connector-python<4.0.0->snowflake-sqlalchemy) (39.0.1)\n",
      "Requirement already satisfied: pyjwt<3.0.0 in /runtime-addons/cmladdon-2.0.38-b125/opt/cmladdons/python/site-packages (from snowflake-connector-python<4.0.0->snowflake-sqlalchemy) (2.6.0)\n",
      "Requirement already satisfied: pycryptodomex!=3.5.0,<4.0.0,>=3.2 in ./.local/lib/python3.7/site-packages (from snowflake-connector-python<4.0.0->snowflake-sqlalchemy) (3.18.0)\n",
      "Requirement already satisfied: cffi<2.0.0,>=1.9 in ./.local/lib/python3.7/site-packages (from snowflake-connector-python<4.0.0->snowflake-sqlalchemy) (1.15.1)\n",
      "Requirement already satisfied: charset-normalizer<4,>=2 in /usr/local/lib/python3.7/site-packages (from snowflake-connector-python<4.0.0->snowflake-sqlalchemy) (2.0.6)\n",
      "Requirement already satisfied: pytz in /usr/local/lib/python3.7/site-packages (from snowflake-connector-python<4.0.0->snowflake-sqlalchemy) (2021.1)\n",
      "Requirement already satisfied: pycparser in ./.local/lib/python3.7/site-packages (from cffi<2.0.0,>=1.9->snowflake-connector-python<4.0.0->snowflake-sqlalchemy) (2.21)\n",
      "Requirement already satisfied: chardet<5,>=3.0.2 in /usr/local/lib/python3.7/site-packages (from requests<3.0.0->snowflake-connector-python<4.0.0->snowflake-sqlalchemy) (4.0.0)\n",
      "Collecting greenlet!=0.4.17\n",
      "  Downloading greenlet-2.0.2-cp37-cp37m-manylinux_2_17_x86_64.manylinux2014_x86_64.whl (566 kB)\n",
      "\u001b[K     |████████████████████████████████| 566 kB 90.2 MB/s eta 0:00:01\n",
      "\u001b[?25hRequirement already satisfied: zipp>=0.5 in /usr/local/lib/python3.7/site-packages (from importlib-metadata->snowflake-sqlalchemy) (3.8.0)\n",
      "Requirement already satisfied: pyparsing>=2.0.2 in /usr/local/lib/python3.7/site-packages (from packaging->snowflake-connector-python<4.0.0->snowflake-sqlalchemy) (2.4.7)\n",
      "Installing collected packages: greenlet, sqlalchemy, snowflake-sqlalchemy\n",
      "Successfully installed greenlet-2.0.2 snowflake-sqlalchemy-1.4.7 sqlalchemy-1.4.48\n"
     ]
    }
   ],
   "source": [
    "!pip install --upgrade snowflake-sqlalchemy"
   ]
  },
  {
   "cell_type": "code",
   "execution_count": 5,
   "id": "2e32b5c4-1f43-4d39-b89e-065c60681309",
   "metadata": {
    "tags": []
   },
   "outputs": [
    {
     "name": "stdout",
     "output_type": "stream",
     "text": [
      "7.21.1\n"
     ]
    }
   ],
   "source": [
    "#!/usr/bin/env python\n",
    "from sqlalchemy import create_engine\n",
    "import os\n",
    "\n",
    "os.environ[\"SQLALCHEMY_SILENCE_UBER_WARNING\"]=\"1\"\n",
    "\n",
    "engine = create_engine(\n",
    "    'snowflake://{user}:{password}@{account_identifier}/'.format(\n",
    "        user= os.getenv('SNOWFLAKE_USERNAME'),\n",
    "        password= os.getenv('SNOWFLAKE_PWD'),\n",
    "        account_identifier=os.getenv('SNOWFLAKE_ACCOUNT'),\n",
    "    )\n",
    ")\n",
    "try:\n",
    "    connection = engine.connect()\n",
    "    results = connection.execute('select current_version()').fetchone()\n",
    "    print(results[0])\n",
    "finally:\n",
    "    connection.close()\n",
    "    engine.dispose()"
   ]
  },
  {
   "cell_type": "code",
   "execution_count": 6,
   "id": "73552b74-3efd-4dc0-9229-fb3b7d3c703f",
   "metadata": {
    "tags": []
   },
   "outputs": [
    {
     "name": "stdout",
     "output_type": "stream",
     "text": [
      "30001\n"
     ]
    }
   ],
   "source": [
    "from snowflake.sqlalchemy import URL\n",
    "from sqlalchemy import create_engine\n",
    "\n",
    "engine = create_engine(URL(\n",
    "    user= os.getenv('SNOWFLAKE_USERNAME'),\n",
    "    password= os.getenv('SNOWFLAKE_PWD'),\n",
    "    account=os.getenv('SNOWFLAKE_ACCOUNT'),\n",
    "    database = 'SNOWFLAKE_SAMPLE_DATA',\n",
    "    schema = 'TPCH_SF1',\n",
    "    warehouse = 'COMPUTE_WH',\n",
    "    role='Public',\n",
    "))\n",
    "\n",
    "try:\n",
    "    connection = engine.connect()\n",
    "    results = connection.execute('SELECT C_CUSTKEY, C_NAME FROM CUSTOMER').fetchone()\n",
    "    print(results[0])\n",
    "finally:\n",
    "    connection.close()\n",
    "    engine.dispose()"
   ]
  },
  {
   "cell_type": "code",
   "execution_count": 7,
   "id": "5d02d83a-412a-407a-aee6-fc27bf5c788b",
   "metadata": {
    "tags": []
   },
   "outputs": [],
   "source": [
    "# let us create a database and table and insert some data\n",
    "import pandas as pd\n",
    "\n",
    "engine = create_engine(URL(\n",
    "    user= os.getenv('SNOWFLAKE_USERNAME'),\n",
    "    password= os.getenv('SNOWFLAKE_PWD'),\n",
    "    account=os.getenv('SNOWFLAKE_ACCOUNT'),\n",
    "    database = 'SNOWFLAKE_SAMPLE_DATA',\n",
    "    schema = 'TPCH_SF1',\n",
    "    warehouse = 'COMPUTE_WH',\n",
    "    role='ACCOUNTADMIN',\n",
    "))\n"
   ]
  },
  {
   "cell_type": "code",
   "execution_count": 8,
   "id": "19fecb90-e569-42ae-af9a-160adbc1e98c",
   "metadata": {
    "tags": []
   },
   "outputs": [
    {
     "data": {
      "text/html": [
       "<div>\n",
       "<style scoped>\n",
       "    .dataframe tbody tr th:only-of-type {\n",
       "        vertical-align: middle;\n",
       "    }\n",
       "\n",
       "    .dataframe tbody tr th {\n",
       "        vertical-align: top;\n",
       "    }\n",
       "\n",
       "    .dataframe thead th {\n",
       "        text-align: right;\n",
       "    }\n",
       "</style>\n",
       "<table border=\"1\" class=\"dataframe\">\n",
       "  <thead>\n",
       "    <tr style=\"text-align: right;\">\n",
       "      <th></th>\n",
       "      <th>col1</th>\n",
       "      <th>col2</th>\n",
       "    </tr>\n",
       "  </thead>\n",
       "  <tbody>\n",
       "    <tr>\n",
       "      <th>0</th>\n",
       "      <td>123</td>\n",
       "      <td>test string1</td>\n",
       "    </tr>\n",
       "    <tr>\n",
       "      <th>1</th>\n",
       "      <td>456</td>\n",
       "      <td>test string2</td>\n",
       "    </tr>\n",
       "  </tbody>\n",
       "</table>\n",
       "</div>"
      ],
      "text/plain": [
       "   col1          col2\n",
       "0   123  test string1\n",
       "1   456  test string2"
      ]
     },
     "execution_count": 8,
     "metadata": {},
     "output_type": "execute_result"
    }
   ],
   "source": [
    "\n",
    "try:\n",
    "    connection = engine.connect()\n",
    "    connection.execute(\"USE WAREHOUSE TINY_WAREHOUSE_MG\")\n",
    "    connection.execute(\"CREATE DATABASE IF NOT EXISTS testdb\") # create a new database\n",
    "    connection.execute(\"USE DATABASE testdb\")\n",
    "    connection.execute(\"CREATE SCHEMA IF NOT EXISTS testschema\") # add a schema\n",
    "    connection.execute(\"USE SCHEMA testschema\")\n",
    "    \n",
    "    #create a table\n",
    "    connection.execute(\n",
    "    \"CREATE OR REPLACE TABLE \"\n",
    "    \"test_table(col1 integer, col2 string)\")\n",
    "    # insert some rows\n",
    "    connection.execute(\n",
    "    \"INSERT INTO test_table(col1, col2) \"\n",
    "    \"VALUES(123, 'test string1'),(456, 'test string2')\")\n",
    "    \n",
    "#     #lets query this data now\n",
    "#     for (col1, col2) in connection.execute(\"SELECT col1, col2 FROM test_table\"):\n",
    "#         print('{0}, {1}'.format(col1, col2))\n",
    "\n",
    "    df = pd.read_sql_query(\"SELECT * FROM testdb.testschema.test_table\", engine)\n",
    "finally:\n",
    "    connection.close()\n",
    "    engine.dispose()\n",
    "\n",
    "df.head()"
   ]
  },
  {
   "cell_type": "code",
   "execution_count": null,
   "id": "abeeaa84-4fa0-44cc-a737-36626f290437",
   "metadata": {},
   "outputs": [],
   "source": []
  }
 ],
 "metadata": {
  "kernelspec": {
   "display_name": "Python 3 (ipykernel)",
   "language": "python",
   "name": "python3"
  },
  "language_info": {
   "codemirror_mode": {
    "name": "ipython",
    "version": 3
   },
   "file_extension": ".py",
   "mimetype": "text/x-python",
   "name": "python",
   "nbconvert_exporter": "python",
   "pygments_lexer": "ipython3",
   "version": "3.7.16"
  }
 },
 "nbformat": 4,
 "nbformat_minor": 5
}
